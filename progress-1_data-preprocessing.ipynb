{
 "cells": [
  {
   "cell_type": "markdown",
   "metadata": {},
   "source": [
    "# Pendahuluan\n",
    "\n",
    "Penelitian sentimen analisis tentang produk skincare merek MS Glow menjadi subjek yang menarik dalam konteks perkembangan industri kecantikan modern. Dalam beberapa tahun terakhir, produk skincare dari berbagai merek telah menjadi pusat perhatian konsumen yang semakin peduli dengan perawatan kulit. MS Glow sebagai salah satu merek yang memperoleh popularitas yang signifikan, menarik perhatian para peneliti untuk menganalisis sentimen konsumen terhadap produk-produknya. Analisis sentimen merupakan alat penting dalam memahami respons emosional dan pandangan konsumen terhadap sebuah merek, membantu perusahaan untuk memperbaiki produk mereka sesuai dengan kebutuhan serta harapan pelanggan.\n",
    "\n",
    "Penelitian ini memperlihatkan semakin meningkatnya minat terhadap produk skincare MS Glow yang menandakan perubahan perilaku konsumen terkait keinginan untuk merawat kulit. Kajian sentimen ini akan melibatkan pengumpulan data dari berbagai sumber, termasuk ulasan online, media sosial, dan platform e-commerce yang mengulas produk-produk dari MS Glow. Tujuan utama penelitian ini adalah untuk menganalisis pola-pola sentimen yang muncul dari berbagai komentar dan ulasan konsumen terkait kualitas, keefektifan, dan pengalaman penggunaan produk skincare MS Glow. Dengan demikian, penelitian ini diharapkan dapat memberikan wawasan yang mendalam mengenai persepsi konsumen terhadap merek ini, memberikan kontribusi bagi perkembangan strategi pemasaran yang lebih baik serta peningkatan kualitas produk skincare MS Glow di masa mendatang.\n",
    "\n",
    "\n",
    "Data Source:\n",
    "\n",
    "[Ms.Glow_Shopee](https://shopee.co.id/MS-GLOW-Paket-Wajah-i.17566419.541734403?sp_atk=8a14f9d8-c119-4029-aadc-10127ed44b74&xptdk=8a14f9d8-c119-4029-aadc-10127ed44b74)\n",
    "\n",
    "\n",
    "**Project Goals:**\n",
    "\n",
    "Adapun tujuan dari project ini dilakukan adalah untuk mengetahui bagaimana sentimen atau opini masyarakat tentang product skincare yang cukup terkenal di Indonesia yaitu Ms.Glow."
   ]
  },
  {
   "cell_type": "markdown",
   "metadata": {},
   "source": [
    "## Mengimport Library"
   ]
  },
  {
   "cell_type": "code",
   "execution_count": 1,
   "metadata": {},
   "outputs": [
    {
     "name": "stderr",
     "output_type": "stream",
     "text": [
      "[nltk_data] Downloading package words to /Users/apa/nltk_data...\n",
      "[nltk_data]   Package words is already up-to-date!\n",
      "[nltk_data] Downloading package stopwords to /Users/apa/nltk_data...\n",
      "[nltk_data]   Package stopwords is already up-to-date!\n",
      "[nltk_data] Downloading package punkt to /Users/apa/nltk_data...\n",
      "[nltk_data]   Package punkt is already up-to-date!\n"
     ]
    }
   ],
   "source": [
    "# library yang dibutuhkan\n",
    "import pandas as pd\n",
    "import re\n",
    "import string\n",
    "from nltk.tokenize import word_tokenize\n",
    "import demoji\n",
    "import nltk\n",
    "from nltk.corpus import stopwords\n",
    "from Sastrawi.Stemmer.StemmerFactory import StemmerFactory\n",
    "from sklearn.feature_extraction.text import CountVectorizer\n",
    "nltk.download('words')\n",
    "nltk.download('stopwords')\n",
    "nltk.download('punkt')\n",
    "pd.set_option('display.max_colwidth', 1)\n"
   ]
  },
  {
   "cell_type": "markdown",
   "metadata": {},
   "source": [
    "## Memuat dan Pemahaman Data "
   ]
  },
  {
   "cell_type": "code",
   "execution_count": 2,
   "metadata": {},
   "outputs": [],
   "source": [
    "# memuat data\n",
    "data = pd.read_csv('dataset/msglow_shopee.csv')\n",
    "# pustaka data untuk label\n",
    "lex_pos = pd.read_csv('dataset/text-library/lexicon_positive_ver1.csv')\n",
    "lex_neg = pd.read_csv('dataset/text-library/lexicon_negative_ver1.csv')\n",
    "# data key normalization\n",
    "key_norm = pd.read_csv('dataset/text-library/key_norm.csv')"
   ]
  },
  {
   "cell_type": "code",
   "execution_count": 3,
   "metadata": {},
   "outputs": [
    {
     "data": {
      "text/html": [
       "<div>\n",
       "<style scoped>\n",
       "    .dataframe tbody tr th:only-of-type {\n",
       "        vertical-align: middle;\n",
       "    }\n",
       "\n",
       "    .dataframe tbody tr th {\n",
       "        vertical-align: top;\n",
       "    }\n",
       "\n",
       "    .dataframe thead th {\n",
       "        text-align: right;\n",
       "    }\n",
       "</style>\n",
       "<table border=\"1\" class=\"dataframe\">\n",
       "  <thead>\n",
       "    <tr style=\"text-align: right;\">\n",
       "      <th></th>\n",
       "      <th>web-scrapper-order</th>\n",
       "      <th>web-scrapper-start-url</th>\n",
       "      <th>review</th>\n",
       "      <th>date</th>\n",
       "    </tr>\n",
       "  </thead>\n",
       "  <tbody>\n",
       "    <tr>\n",
       "      <th>0</th>\n",
       "      <td>1703673315-1</td>\n",
       "      <td>https://shopee.co.id/MS-GLOW-Paket-Wajah-i.17566419.541734403?sp_atk=8a14f9d8-c119-4029-aadc-10127ed44b74&amp;xptdk=8a14f9d8-c119-4029-aadc-10127ed44b74</td>\n",
       "      <td>Kemasan BB cream sama Day cream yg sblumnya sama aja gak ada bedanya aku kira salah tpi dalamnya beda \\nUntuk yg lainnya oke\\nPengiriman cepat cman 1 hari pakai sicepat 🥰🥰🥰😘😘\\nThanks MSglow</td>\n",
       "      <td>2021-11-26 15:04</td>\n",
       "    </tr>\n",
       "    <tr>\n",
       "      <th>1</th>\n",
       "      <td>1703673315-2</td>\n",
       "      <td>https://shopee.co.id/MS-GLOW-Paket-Wajah-i.17566419.541734403?sp_atk=8a14f9d8-c119-4029-aadc-10127ed44b74&amp;xptdk=8a14f9d8-c119-4029-aadc-10127ed44b74</td>\n",
       "      <td>Alhamdulillah baru banget sampe nih barang nya. Dalem nya aman buble nya banyak ga ada yang cacat sesuai baru order di toko ini sih tapi Alhamdulillah packing an nya oke. Pengiriman nya oke. Semoga cocok deh</td>\n",
       "      <td>2022-05-07 09:53</td>\n",
       "    </tr>\n",
       "    <tr>\n",
       "      <th>2</th>\n",
       "      <td>1703673315-3</td>\n",
       "      <td>https://shopee.co.id/MS-GLOW-Paket-Wajah-i.17566419.541734403?sp_atk=8a14f9d8-c119-4029-aadc-10127ed44b74&amp;xptdk=8a14f9d8-c119-4029-aadc-10127ed44b74</td>\n",
       "      <td>Kualitas produk sangat baik. Harga produk sangat baik. Kecepatan pengiriman sangat baik. Kecepatan pengiriman sangat baik. Respon penjual sangat baik. Semua baik, bahkan orang jahatpun aslinya baik, hanya saja mungkin lingkungan dan kondisilah yg merubah mereka menjadi tidak baik...</td>\n",
       "      <td>2023-07-11 17:35</td>\n",
       "    </tr>\n",
       "    <tr>\n",
       "      <th>3</th>\n",
       "      <td>1703673315-4</td>\n",
       "      <td>https://shopee.co.id/MS-GLOW-Paket-Wajah-i.17566419.541734403?sp_atk=8a14f9d8-c119-4029-aadc-10127ed44b74&amp;xptdk=8a14f9d8-c119-4029-aadc-10127ed44b74</td>\n",
       "      <td>Produk original , packing rapih double2 babble warp ,pengiriman cepat ,pengemasan cepat... Trim's MSGlow Official 😘</td>\n",
       "      <td>2021-10-29 06:09</td>\n",
       "    </tr>\n",
       "    <tr>\n",
       "      <th>4</th>\n",
       "      <td>1703673315-5</td>\n",
       "      <td>https://shopee.co.id/MS-GLOW-Paket-Wajah-i.17566419.541734403?sp_atk=8a14f9d8-c119-4029-aadc-10127ed44b74&amp;xptdk=8a14f9d8-c119-4029-aadc-10127ed44b74</td>\n",
       "      <td>Pengemasan cepat, packing aman. Produk ori, expired date masih lama. Tekstur kental, tp akan berasa watery begitu di aplikasikan ke wajah, cepat meresap. First time coba, semoga cocok &amp; bisa terus pake.</td>\n",
       "      <td>2021-04-22 17:14</td>\n",
       "    </tr>\n",
       "  </tbody>\n",
       "</table>\n",
       "</div>"
      ],
      "text/plain": [
       "  web-scrapper-order  \\\n",
       "0  1703673315-1        \n",
       "1  1703673315-2        \n",
       "2  1703673315-3        \n",
       "3  1703673315-4        \n",
       "4  1703673315-5        \n",
       "\n",
       "                                                                                                                                 web-scrapper-start-url  \\\n",
       "0  https://shopee.co.id/MS-GLOW-Paket-Wajah-i.17566419.541734403?sp_atk=8a14f9d8-c119-4029-aadc-10127ed44b74&xptdk=8a14f9d8-c119-4029-aadc-10127ed44b74   \n",
       "1  https://shopee.co.id/MS-GLOW-Paket-Wajah-i.17566419.541734403?sp_atk=8a14f9d8-c119-4029-aadc-10127ed44b74&xptdk=8a14f9d8-c119-4029-aadc-10127ed44b74   \n",
       "2  https://shopee.co.id/MS-GLOW-Paket-Wajah-i.17566419.541734403?sp_atk=8a14f9d8-c119-4029-aadc-10127ed44b74&xptdk=8a14f9d8-c119-4029-aadc-10127ed44b74   \n",
       "3  https://shopee.co.id/MS-GLOW-Paket-Wajah-i.17566419.541734403?sp_atk=8a14f9d8-c119-4029-aadc-10127ed44b74&xptdk=8a14f9d8-c119-4029-aadc-10127ed44b74   \n",
       "4  https://shopee.co.id/MS-GLOW-Paket-Wajah-i.17566419.541734403?sp_atk=8a14f9d8-c119-4029-aadc-10127ed44b74&xptdk=8a14f9d8-c119-4029-aadc-10127ed44b74   \n",
       "\n",
       "                                                                                                                                                                                                                                                                                        review  \\\n",
       "0  Kemasan BB cream sama Day cream yg sblumnya sama aja gak ada bedanya aku kira salah tpi dalamnya beda \\nUntuk yg lainnya oke\\nPengiriman cepat cman 1 hari pakai sicepat 🥰🥰🥰😘😘\\nThanks MSglow                                                                                                 \n",
       "1  Alhamdulillah baru banget sampe nih barang nya. Dalem nya aman buble nya banyak ga ada yang cacat sesuai baru order di toko ini sih tapi Alhamdulillah packing an nya oke. Pengiriman nya oke. Semoga cocok deh                                                                               \n",
       "2  Kualitas produk sangat baik. Harga produk sangat baik. Kecepatan pengiriman sangat baik. Kecepatan pengiriman sangat baik. Respon penjual sangat baik. Semua baik, bahkan orang jahatpun aslinya baik, hanya saja mungkin lingkungan dan kondisilah yg merubah mereka menjadi tidak baik...   \n",
       "3  Produk original , packing rapih double2 babble warp ,pengiriman cepat ,pengemasan cepat... Trim's MSGlow Official 😘                                                                                                                                                                           \n",
       "4  Pengemasan cepat, packing aman. Produk ori, expired date masih lama. Tekstur kental, tp akan berasa watery begitu di aplikasikan ke wajah, cepat meresap. First time coba, semoga cocok & bisa terus pake.                                                                                    \n",
       "\n",
       "                date  \n",
       "0  2021-11-26 15:04   \n",
       "1  2022-05-07 09:53   \n",
       "2  2023-07-11 17:35   \n",
       "3  2021-10-29 06:09   \n",
       "4  2021-04-22 17:14   "
      ]
     },
     "execution_count": 3,
     "metadata": {},
     "output_type": "execute_result"
    }
   ],
   "source": [
    "# menampilkan 5 data pertama\n",
    "data.head()"
   ]
  },
  {
   "cell_type": "code",
   "execution_count": 4,
   "metadata": {},
   "outputs": [
    {
     "name": "stdout",
     "output_type": "stream",
     "text": [
      "<class 'pandas.core.frame.DataFrame'>\n",
      "RangeIndex: 3006 entries, 0 to 3005\n",
      "Data columns (total 4 columns):\n",
      " #   Column                  Non-Null Count  Dtype \n",
      "---  ------                  --------------  ----- \n",
      " 0   web-scrapper-order      2440 non-null   object\n",
      " 1   web-scrapper-start-url  2440 non-null   object\n",
      " 2   review                  2281 non-null   object\n",
      " 3   date                    3006 non-null   object\n",
      "dtypes: object(4)\n",
      "memory usage: 94.1+ KB\n"
     ]
    }
   ],
   "source": [
    "# informasi umum data\n",
    "data.info()"
   ]
  },
  {
   "cell_type": "markdown",
   "metadata": {},
   "source": [
    "Kita mendapati kolom date yang masih mempunyai type data `object`, untuk itu kita akan mengubahnya ke tipe `datetime` dan mengekstrak tanggal tersebut pada tahap selanjutnya. Hal ini dilakukan untuk tahap Exploratory Data Analysis (EDA) dan kita akan menghapus kolom yang tidak digunakan."
   ]
  },
  {
   "cell_type": "code",
   "execution_count": 5,
   "metadata": {},
   "outputs": [
    {
     "data": {
      "text/plain": [
       "0"
      ]
     },
     "execution_count": 5,
     "metadata": {},
     "output_type": "execute_result"
    }
   ],
   "source": [
    "# memeriksa duplikat\n",
    "data.duplicated().sum()"
   ]
  },
  {
   "cell_type": "code",
   "execution_count": 6,
   "metadata": {},
   "outputs": [
    {
     "data": {
      "text/html": [
       "<div>\n",
       "<style scoped>\n",
       "    .dataframe tbody tr th:only-of-type {\n",
       "        vertical-align: middle;\n",
       "    }\n",
       "\n",
       "    .dataframe tbody tr th {\n",
       "        vertical-align: top;\n",
       "    }\n",
       "\n",
       "    .dataframe thead th {\n",
       "        text-align: right;\n",
       "    }\n",
       "</style>\n",
       "<table border=\"1\" class=\"dataframe\">\n",
       "  <thead>\n",
       "    <tr style=\"text-align: right;\">\n",
       "      <th></th>\n",
       "      <th>count</th>\n",
       "      <th>percentage</th>\n",
       "    </tr>\n",
       "  </thead>\n",
       "  <tbody>\n",
       "    <tr>\n",
       "      <th>web-scrapper-order</th>\n",
       "      <td>566</td>\n",
       "      <td>18.83%</td>\n",
       "    </tr>\n",
       "    <tr>\n",
       "      <th>web-scrapper-start-url</th>\n",
       "      <td>566</td>\n",
       "      <td>18.83%</td>\n",
       "    </tr>\n",
       "    <tr>\n",
       "      <th>review</th>\n",
       "      <td>725</td>\n",
       "      <td>24.12%</td>\n",
       "    </tr>\n",
       "    <tr>\n",
       "      <th>date</th>\n",
       "      <td>0</td>\n",
       "      <td>0.0%</td>\n",
       "    </tr>\n",
       "  </tbody>\n",
       "</table>\n",
       "</div>"
      ],
      "text/plain": [
       "                        count percentage\n",
       "web-scrapper-order      566    18.83%   \n",
       "web-scrapper-start-url  566    18.83%   \n",
       "review                  725    24.12%   \n",
       "date                    0      0.0%     "
      ]
     },
     "execution_count": 6,
     "metadata": {},
     "output_type": "execute_result"
    }
   ],
   "source": [
    "# memeriksa nilai yang hilang\n",
    "missing_report = data.isna().sum().to_frame()\n",
    "missing_report.columns = ['count']\n",
    "missing_report['percentage'] = (missing_report['count'] / len(data) * 100).round(2).astype('str')+'%'\n",
    "missing_report"
   ]
  },
  {
   "cell_type": "markdown",
   "metadata": {},
   "source": [
    "Sepertinya dataset kita memiliki *missing value*, kita tidak dapat mengisi dengan nilai pengganti seperti metode `modus` ataupun dengan nilai lain seperti `unknown`. Karena project ini dilakukan dalam analysis sentimen. Untuk itu kita akan menghapus data yang terdapat *missing value*."
   ]
  },
  {
   "cell_type": "markdown",
   "metadata": {},
   "source": [
    "# Data Pre-Processing"
   ]
  },
  {
   "cell_type": "markdown",
   "metadata": {},
   "source": [
    "## Menghapus *Missing Value* dan kolom yang tidak digunakan"
   ]
  },
  {
   "cell_type": "code",
   "execution_count": 7,
   "metadata": {},
   "outputs": [],
   "source": [
    "# menghapus missing value\n",
    "data.dropna(inplace=True)\n",
    "# menghapus kolom yang tidak diperlukan\n",
    "data = data.drop(['web-scrapper-order','web-scrapper-start-url'], axis=1)"
   ]
  },
  {
   "cell_type": "markdown",
   "metadata": {},
   "source": [
    "### Memperkaya Kualitas Data"
   ]
  },
  {
   "cell_type": "code",
   "execution_count": 8,
   "metadata": {},
   "outputs": [],
   "source": [
    "# mengubah tipe data kolom date ke datetime\n",
    "data['date'] = data['date'].astype(str).str.strip()\n",
    "data['date'] = pd.to_datetime(data['date'], format='%Y-%m-%d %H:%M')\n",
    "# menambahkan kolom years dan month\n",
    "data['years'] = data['date'].dt.year\n",
    "data['month'] = data['date'].dt.month\n",
    "# menghapus kolom date \n",
    "data = data.drop(['date'], axis=1)"
   ]
  },
  {
   "cell_type": "code",
   "execution_count": 9,
   "metadata": {},
   "outputs": [
    {
     "name": "stdout",
     "output_type": "stream",
     "text": [
      "<class 'pandas.core.frame.DataFrame'>\n",
      "Index: 2281 entries, 0 to 2439\n",
      "Data columns (total 3 columns):\n",
      " #   Column  Non-Null Count  Dtype \n",
      "---  ------  --------------  ----- \n",
      " 0   review  2281 non-null   object\n",
      " 1   years   2281 non-null   int32 \n",
      " 2   month   2281 non-null   int32 \n",
      "dtypes: int32(2), object(1)\n",
      "memory usage: 53.5+ KB\n"
     ]
    }
   ],
   "source": [
    "data.info()"
   ]
  },
  {
   "cell_type": "markdown",
   "metadata": {},
   "source": [
    "## Data Cleaning"
   ]
  },
  {
   "cell_type": "markdown",
   "metadata": {},
   "source": [
    "### Case Folding  "
   ]
  },
  {
   "cell_type": "code",
   "execution_count": 10,
   "metadata": {},
   "outputs": [],
   "source": [
    "#Merubah semua huruf menjadi huruf kecil\n",
    "#Menghilangkan semua tanda baca, angka, dan simbol\n",
    "def casefolding(text):\n",
    "    text = text.lower() # mengubah kalimat menjadi huruf kecil\n",
    "    text = re.sub(r'\\w+:\\/{2}[\\d\\w-]+(\\.[\\d\\w-]+)*(?:(?:\\/[^\\s/]*))*', '', text)\n",
    "    text = re.sub(r'[?|$|.|@#%^&*=!_:\")(-+,]', '', text)\n",
    "    text = text.replace('\\n', '') # menghilangkan simbol utk baris baru\n",
    "    text = demoji.replace(text, '')\n",
    "    text = text.strip(\" \") # hapus spasi dari kiri dan kanan teks\n",
    "\n",
    "    return text\n"
   ]
  },
  {
   "cell_type": "code",
   "execution_count": 11,
   "metadata": {},
   "outputs": [
    {
     "data": {
      "text/html": [
       "<div>\n",
       "<style scoped>\n",
       "    .dataframe tbody tr th:only-of-type {\n",
       "        vertical-align: middle;\n",
       "    }\n",
       "\n",
       "    .dataframe tbody tr th {\n",
       "        vertical-align: top;\n",
       "    }\n",
       "\n",
       "    .dataframe thead th {\n",
       "        text-align: right;\n",
       "    }\n",
       "</style>\n",
       "<table border=\"1\" class=\"dataframe\">\n",
       "  <thead>\n",
       "    <tr style=\"text-align: right;\">\n",
       "      <th></th>\n",
       "      <th>review</th>\n",
       "      <th>years</th>\n",
       "      <th>month</th>\n",
       "    </tr>\n",
       "  </thead>\n",
       "  <tbody>\n",
       "    <tr>\n",
       "      <th>0</th>\n",
       "      <td>kemasan bb cream sama day cream yg sblumnya sama aja gak ada bedanya aku kira salah tpi dalamnya beda untuk yg lainnya okepengiriman cepat cman 1 hari pakai sicepat thanks msglow</td>\n",
       "      <td>2021</td>\n",
       "      <td>11</td>\n",
       "    </tr>\n",
       "    <tr>\n",
       "      <th>1</th>\n",
       "      <td>alhamdulillah baru banget sampe nih barang nya dalem nya aman buble nya banyak ga ada yang cacat sesuai baru order di toko ini sih tapi alhamdulillah packing an nya oke pengiriman nya oke semoga cocok deh</td>\n",
       "      <td>2022</td>\n",
       "      <td>5</td>\n",
       "    </tr>\n",
       "    <tr>\n",
       "      <th>2</th>\n",
       "      <td>kualitas produk sangat baik harga produk sangat baik kecepatan pengiriman sangat baik kecepatan pengiriman sangat baik respon penjual sangat baik semua baik bahkan orang jahatpun aslinya baik hanya saja mungkin lingkungan dan kondisilah yg merubah mereka menjadi tidak baik</td>\n",
       "      <td>2023</td>\n",
       "      <td>7</td>\n",
       "    </tr>\n",
       "    <tr>\n",
       "      <th>3</th>\n",
       "      <td>produk original  packing rapih double2 babble warp pengiriman cepat pengemasan cepat trim's msglow official</td>\n",
       "      <td>2021</td>\n",
       "      <td>10</td>\n",
       "    </tr>\n",
       "    <tr>\n",
       "      <th>4</th>\n",
       "      <td>pengemasan cepat packing aman produk ori expired date masih lama tekstur kental tp akan berasa watery begitu di aplikasikan ke wajah cepat meresap first time coba semoga cocok  bisa terus pake</td>\n",
       "      <td>2021</td>\n",
       "      <td>4</td>\n",
       "    </tr>\n",
       "  </tbody>\n",
       "</table>\n",
       "</div>"
      ],
      "text/plain": [
       "                                                                                                                                                                                                                                                                              review  \\\n",
       "0  kemasan bb cream sama day cream yg sblumnya sama aja gak ada bedanya aku kira salah tpi dalamnya beda untuk yg lainnya okepengiriman cepat cman 1 hari pakai sicepat thanks msglow                                                                                                  \n",
       "1  alhamdulillah baru banget sampe nih barang nya dalem nya aman buble nya banyak ga ada yang cacat sesuai baru order di toko ini sih tapi alhamdulillah packing an nya oke pengiriman nya oke semoga cocok deh                                                                        \n",
       "2  kualitas produk sangat baik harga produk sangat baik kecepatan pengiriman sangat baik kecepatan pengiriman sangat baik respon penjual sangat baik semua baik bahkan orang jahatpun aslinya baik hanya saja mungkin lingkungan dan kondisilah yg merubah mereka menjadi tidak baik   \n",
       "3  produk original  packing rapih double2 babble warp pengiriman cepat pengemasan cepat trim's msglow official                                                                                                                                                                         \n",
       "4  pengemasan cepat packing aman produk ori expired date masih lama tekstur kental tp akan berasa watery begitu di aplikasikan ke wajah cepat meresap first time coba semoga cocok  bisa terus pake                                                                                    \n",
       "\n",
       "   years  month  \n",
       "0  2021   11     \n",
       "1  2022   5      \n",
       "2  2023   7      \n",
       "3  2021   10     \n",
       "4  2021   4      "
      ]
     },
     "execution_count": 11,
     "metadata": {},
     "output_type": "execute_result"
    }
   ],
   "source": [
    "# menerapkan fungsi\n",
    "data['review'] = data['review'].apply(casefolding)\n",
    "data.head()"
   ]
  },
  {
   "cell_type": "markdown",
   "metadata": {},
   "source": [
    "### Data Normalization\n",
    "\n",
    "Data normalisasi merupakan tahapan untuk memproses data text yang terdapat singkatan atau semacamnya untuk diolah menjadi kata normal."
   ]
  },
  {
   "cell_type": "code",
   "execution_count": 12,
   "metadata": {},
   "outputs": [],
   "source": [
    "# membuat fungsi untuk normalisasi kata atau kalimat\n",
    "def WordNormalization(text):\n",
    "    text = ' '.join([key_norm[key_norm['singkat'] == word]['hasil'].values[0] if (key_norm['singkat'] == word).any() else word for word in text.split()])\n",
    "    text = str.lower(text)\n",
    "    return text\n"
   ]
  },
  {
   "cell_type": "code",
   "execution_count": 13,
   "metadata": {},
   "outputs": [
    {
     "data": {
      "text/html": [
       "<div>\n",
       "<style scoped>\n",
       "    .dataframe tbody tr th:only-of-type {\n",
       "        vertical-align: middle;\n",
       "    }\n",
       "\n",
       "    .dataframe tbody tr th {\n",
       "        vertical-align: top;\n",
       "    }\n",
       "\n",
       "    .dataframe thead th {\n",
       "        text-align: right;\n",
       "    }\n",
       "</style>\n",
       "<table border=\"1\" class=\"dataframe\">\n",
       "  <thead>\n",
       "    <tr style=\"text-align: right;\">\n",
       "      <th></th>\n",
       "      <th>review</th>\n",
       "      <th>years</th>\n",
       "      <th>month</th>\n",
       "    </tr>\n",
       "  </thead>\n",
       "  <tbody>\n",
       "    <tr>\n",
       "      <th>0</th>\n",
       "      <td>kemasan bb cream sama hari cream yang sebelumnya sama saja tidak ada bedanya saya kira salah tapi dalamnya beda untuk yang lainnya pengiriman cepat cuma 1 hari pakai sicepat terimakasih msglow</td>\n",
       "      <td>2021</td>\n",
       "      <td>11</td>\n",
       "    </tr>\n",
       "    <tr>\n",
       "      <th>1</th>\n",
       "      <td>alhamdulillah baru banget sampai nih barang nya dalem nya aman buble nya banyak tidak ada yang cacat sesuai baru order di toko ini sih tapi alhamdulillah packing an nya oke pengiriman nya oke semoga cocok deh</td>\n",
       "      <td>2022</td>\n",
       "      <td>5</td>\n",
       "    </tr>\n",
       "    <tr>\n",
       "      <th>2</th>\n",
       "      <td>kualitas produk sangat baik harga produk sangat baik kecepatan pengiriman sangat baik kecepatan pengiriman sangat baik respon penjual sangat baik semua baik bahkan orang jahatpun aslinya baik hanya saja mungkin lingkungan dan kondisilah yang merubah mereka menjadi tidak baik</td>\n",
       "      <td>2023</td>\n",
       "      <td>7</td>\n",
       "    </tr>\n",
       "    <tr>\n",
       "      <th>3</th>\n",
       "      <td>produk original packing rapih double2 bubble warp pengiriman cepat pengemasan cepat terimakasih msglow official</td>\n",
       "      <td>2021</td>\n",
       "      <td>10</td>\n",
       "    </tr>\n",
       "    <tr>\n",
       "      <th>4</th>\n",
       "      <td>pengemasan cepat packing aman produk original expired date masih lama tekstur kental tetapi akan berasa watery begitu di aplikasikan ke wajah cepat meresap pertama waktu coba semoga cocok bisa terus pakai</td>\n",
       "      <td>2021</td>\n",
       "      <td>4</td>\n",
       "    </tr>\n",
       "  </tbody>\n",
       "</table>\n",
       "</div>"
      ],
      "text/plain": [
       "                                                                                                                                                                                                                                                                                review  \\\n",
       "0  kemasan bb cream sama hari cream yang sebelumnya sama saja tidak ada bedanya saya kira salah tapi dalamnya beda untuk yang lainnya pengiriman cepat cuma 1 hari pakai sicepat terimakasih msglow                                                                                      \n",
       "1  alhamdulillah baru banget sampai nih barang nya dalem nya aman buble nya banyak tidak ada yang cacat sesuai baru order di toko ini sih tapi alhamdulillah packing an nya oke pengiriman nya oke semoga cocok deh                                                                      \n",
       "2  kualitas produk sangat baik harga produk sangat baik kecepatan pengiriman sangat baik kecepatan pengiriman sangat baik respon penjual sangat baik semua baik bahkan orang jahatpun aslinya baik hanya saja mungkin lingkungan dan kondisilah yang merubah mereka menjadi tidak baik   \n",
       "3  produk original packing rapih double2 bubble warp pengiriman cepat pengemasan cepat terimakasih msglow official                                                                                                                                                                       \n",
       "4  pengemasan cepat packing aman produk original expired date masih lama tekstur kental tetapi akan berasa watery begitu di aplikasikan ke wajah cepat meresap pertama waktu coba semoga cocok bisa terus pakai                                                                          \n",
       "\n",
       "   years  month  \n",
       "0  2021   11     \n",
       "1  2022   5      \n",
       "2  2023   7      \n",
       "3  2021   10     \n",
       "4  2021   4      "
      ]
     },
     "execution_count": 13,
     "metadata": {},
     "output_type": "execute_result"
    }
   ],
   "source": [
    "# menerapkan fungsi\n",
    "data['review'] = data['review'].apply(WordNormalization)\n",
    "data.head()"
   ]
  },
  {
   "cell_type": "markdown",
   "metadata": {},
   "source": [
    "### Tokenizing"
   ]
  },
  {
   "cell_type": "markdown",
   "metadata": {},
   "source": [
    "Pada tahap ini kita akan melakukan tokenisasi kalimat menjadi kata-kata dan menghapus kata yang terdapat bahasa inggris."
   ]
  },
  {
   "cell_type": "code",
   "execution_count": 14,
   "metadata": {},
   "outputs": [],
   "source": [
    "def remove_english_words(sentence):\n",
    "    words = word_tokenize(sentence)  # tokenisasi kalimat menjadi kata-kata\n",
    "    english_words = set(nltk.corpus.words.words()) # set kata-kata dalam bahasa Inggris dari NLTK\n",
    "    words_to_remove = set(['double2', 'buble', 'bubble'])  # kata-kata yang ingin dihapus, diubah menjadi set\n",
    "    non_english_words = [word for word in words if word not in english_words and word not in words_to_remove]  # memfilter kata-kata yang bukan dalam bahasa Inggris dan bukan termasuk kata-kata yang ingin dihapus\n",
    "    return non_english_words"
   ]
  },
  {
   "cell_type": "code",
   "execution_count": 15,
   "metadata": {},
   "outputs": [
    {
     "data": {
      "text/html": [
       "<div>\n",
       "<style scoped>\n",
       "    .dataframe tbody tr th:only-of-type {\n",
       "        vertical-align: middle;\n",
       "    }\n",
       "\n",
       "    .dataframe tbody tr th {\n",
       "        vertical-align: top;\n",
       "    }\n",
       "\n",
       "    .dataframe thead th {\n",
       "        text-align: right;\n",
       "    }\n",
       "</style>\n",
       "<table border=\"1\" class=\"dataframe\">\n",
       "  <thead>\n",
       "    <tr style=\"text-align: right;\">\n",
       "      <th></th>\n",
       "      <th>review</th>\n",
       "      <th>years</th>\n",
       "      <th>month</th>\n",
       "    </tr>\n",
       "  </thead>\n",
       "  <tbody>\n",
       "    <tr>\n",
       "      <th>0</th>\n",
       "      <td>[kemasan, bb, sama, hari, sebelumnya, sama, saja, tidak, ada, bedanya, kira, salah, tapi, dalamnya, beda, untuk, lainnya, pengiriman, cepat, cuma, 1, hari, pakai, sicepat, terimakasih, msglow]</td>\n",
       "      <td>2021</td>\n",
       "      <td>11</td>\n",
       "    </tr>\n",
       "    <tr>\n",
       "      <th>1</th>\n",
       "      <td>[alhamdulillah, banget, sampai, nih, barang, nya, dalem, nya, aman, nya, banyak, tidak, ada, cacat, sesuai, ini, sih, tapi, alhamdulillah, packing, nya, oke, pengiriman, nya, oke, semoga, cocok, deh]</td>\n",
       "      <td>2022</td>\n",
       "      <td>5</td>\n",
       "    </tr>\n",
       "    <tr>\n",
       "      <th>2</th>\n",
       "      <td>[kualitas, produk, sangat, baik, harga, produk, sangat, baik, kecepatan, pengiriman, sangat, baik, kecepatan, pengiriman, sangat, baik, respon, penjual, sangat, baik, semua, baik, bahkan, jahatpun, aslinya, baik, hanya, saja, mungkin, lingkungan, kondisilah, merubah, mereka, menjadi, tidak, baik]</td>\n",
       "      <td>2023</td>\n",
       "      <td>7</td>\n",
       "    </tr>\n",
       "    <tr>\n",
       "      <th>3</th>\n",
       "      <td>[produk, packing, rapih, pengiriman, cepat, pengemasan, cepat, terimakasih, msglow]</td>\n",
       "      <td>2021</td>\n",
       "      <td>10</td>\n",
       "    </tr>\n",
       "    <tr>\n",
       "      <th>4</th>\n",
       "      <td>[pengemasan, cepat, packing, aman, produk, expired, masih, tekstur, kental, tetapi, akan, berasa, begitu, aplikasikan, ke, wajah, cepat, meresap, pertama, waktu, coba, semoga, cocok, bisa, terus, pakai]</td>\n",
       "      <td>2021</td>\n",
       "      <td>4</td>\n",
       "    </tr>\n",
       "  </tbody>\n",
       "</table>\n",
       "</div>"
      ],
      "text/plain": [
       "                                                                                                                                                                                                                                                                                                      review  \\\n",
       "0  [kemasan, bb, sama, hari, sebelumnya, sama, saja, tidak, ada, bedanya, kira, salah, tapi, dalamnya, beda, untuk, lainnya, pengiriman, cepat, cuma, 1, hari, pakai, sicepat, terimakasih, msglow]                                                                                                            \n",
       "1  [alhamdulillah, banget, sampai, nih, barang, nya, dalem, nya, aman, nya, banyak, tidak, ada, cacat, sesuai, ini, sih, tapi, alhamdulillah, packing, nya, oke, pengiriman, nya, oke, semoga, cocok, deh]                                                                                                     \n",
       "2  [kualitas, produk, sangat, baik, harga, produk, sangat, baik, kecepatan, pengiriman, sangat, baik, kecepatan, pengiriman, sangat, baik, respon, penjual, sangat, baik, semua, baik, bahkan, jahatpun, aslinya, baik, hanya, saja, mungkin, lingkungan, kondisilah, merubah, mereka, menjadi, tidak, baik]   \n",
       "3  [produk, packing, rapih, pengiriman, cepat, pengemasan, cepat, terimakasih, msglow]                                                                                                                                                                                                                         \n",
       "4  [pengemasan, cepat, packing, aman, produk, expired, masih, tekstur, kental, tetapi, akan, berasa, begitu, aplikasikan, ke, wajah, cepat, meresap, pertama, waktu, coba, semoga, cocok, bisa, terus, pakai]                                                                                                  \n",
       "\n",
       "   years  month  \n",
       "0  2021   11     \n",
       "1  2022   5      \n",
       "2  2023   7      \n",
       "3  2021   10     \n",
       "4  2021   4      "
      ]
     },
     "execution_count": 15,
     "metadata": {},
     "output_type": "execute_result"
    }
   ],
   "source": [
    "data.review = data.review.apply(remove_english_words)\n",
    "data.head()"
   ]
  },
  {
   "cell_type": "markdown",
   "metadata": {},
   "source": [
    "### Filtering Stop Words"
   ]
  },
  {
   "cell_type": "code",
   "execution_count": 16,
   "metadata": {},
   "outputs": [],
   "source": [
    "#Menghapus kata-kata yang tidak penting atau tidak memiliki makna\n",
    "def stopword_removal(text):\n",
    "    filtering = stopwords.words('indonesian','english')\n",
    "    filtering.extend([\"🏻\",\"🙂\",\"🙏\",\"👉\",\"🇮🇩\",\"🎉\",\"➡️\",\"🤣\",\"🤭\",\n",
    "                        \"🙈\",\"⬆️\",\"♀️\",\"🤦🏻\",\"😎\",\"🙌🏻\",\"😊\",\"👇🏼\",\"🧐\",\n",
    "                        \"😁\",\"🙏\",\"😂\",\"😅\",\"🤔\",\"👍\",\"🚭\",\"✌️\",\"‼️\",\n",
    "                        \"🖤\",\"🤍\",\"😍\",\"🔃\",\"❤️\",\"💬\",\"😠\",\"😡\",\"😑\",\n",
    "                        \"😉\",\"⚠️\",\"🙊\",\"😭\",\"💥\",\"✨\",\"🙄\",\"😔\",\"✋\",\n",
    "                        \"🤒\",\"😖\",\"💆\",\"💉\",\"👇\",\"🙂\",\"🤩\",\"🇺🇸\",\"�\",\n",
    "                        \"🅸\",\"🅽\",\"🅵\",\"🅾\",\"🅿\",\"🅴\",\"🆃\",\"🅶\",\"✅\",\"😳\",\"🙌\",\"gpp🙌🏻\",\"1\",\n",
    "                        \"🏿\",\"🏻\",\"gw\",\"aja\",\"enggak\",\"ya\",\"udah\",\"nya\",\"dgn\",\"gak\",\n",
    "                      \"ga\",\"yg\",\"gkaja\",\"yah\",\"mgkn\",\"haha\",\"klo\",\"silahkn\",\n",
    "                      \"ngg\",\"hp\",\"si\",\"dah\",\"iya\",\"drb\",\"g\",\"nggak\",\"bbrp\",\n",
    "                      \"deh\",\"sbg\",\"dlm\",\"krn\",\"sj\",\"msg\",\"jgn\",\"ttg\",\"lu\",\n",
    "                      \"ku\",\"mrk\",\"lg\",\"gk\",\"bs\",\"tk\",\"lbh\",\"pd\",\"blm\",\n",
    "                      \"ngak\",\"mb\",\"donk\",\"knp\",\"td\",\"dg\",\"sy\",\"kalo\",\"ato\",\n",
    "                      \"tp\",\"jd\",\"kyk\",\"org\",\"pake\",\"udh\",\"lha\",\"tdk\",\n",
    "                      \"ortu\",\"jg\",\"ndak\",\"sih\",\"pas\",\"mu\",\"la\",\"dr\",\"sdh\",\n",
    "                      \"kl\",\"bgt\",\"rt\",\"rw\",\"utk\",\"dpt\",\"adlh\",\"bw\",\"yak\",\n",
    "                      \"hmm\",\"kbm\",\"hehehe\",\"wkwkwkwk\",\"yuk\",\"tdak\",\"cpt\",\n",
    "                      \"to\",\"spp\",\"smg\",\"pln\",\"ttp\",\"loh\",\"bro\",\"spt\",\n",
    "                      \"min\",\"tuji\",\"skrg\",\"gin\",\"indo\",\"5g\",\"4g\",\"dll\",\n",
    "                      \"org2\",\"tip\",\"mah\",\"smp\",\"sma\",\"sd\",\"pjj\",\"psbb\",\n",
    "                      \"pin\",\"yeah\",\"un\",\"inna\",\"lillahi\",\"inna\",\"ilaihi\",\n",
    "                      \"raji\",\"wa\",\"duh\",\"bkn\",\"cuap\",\"tri\",\"anjiiiinnng\",\n",
    "                      \"mi\",\"klas\",\"trs\",\"pel\",\"habibi\",\"ptm\",\"mbak\",\"dng\",\n",
    "                      \"seko\",\"mai\",\"klw\",\"anak2\",\"ge\",\"moga\",\"bb\",\"okepengiriman\",\n",
    "                      \"merestart\",\"nak\",\"un\",\"raji\",\"innalilahi\",\"ni\",\"nih\",\n",
    "                      \"allh\",\"amiiiin\",\"rpp\",\"lah\",\"lo\",\"kagak\",\"kaga\",\"gpp\",\n",
    "                      \"Ferguso\",\"tak\",\"gini\",\"dr\",\"bhw\",\"lho\",\"kok\",\"mak\",\"mmg\",\"2\",\"bgtau\",\n",
    "                      \"tak\",\"tgkp\",\"gmbr\",\"ape\",\"tnjuk\",\"dri\",\"mcm\",\"tu\",\"da\",\"rse\",\"Knpe\",\"bg\",\"bln\",\"u/\",\"jt\",\n",
    "                      \"mulu\",\"jul\",\"aug\",\"btw\",\"ngga\",\"kmrn\",\"cm\",\"yth\",\"nahh\",\"au ah\",\"puyeng\",\"selinting\",\"ig\",\"drp\",\n",
    "                      \"je\",\"UK\",\"wa\",\"ndroooo\",\"dapet\",\"nyesel\",\"wooow\",\"ampul\",\"ribet\",\"di\",\"mui\",\"tdk\",\"jg\",\"btw\",\"klo\",\n",
    "                      \"cus\",\"kopit\",\"krn\",\"yuuuk\",\"njih\",\"lur\",\"knp\",\"sdh\",\"yg\",\"stlh\",\"iaitu\",\"tsb\",\"guys\",\"kes\",\"rep\",\n",
    "                      \"yaa\",\"ga\",\"kat\",\"tu\",\"sbg\",\"kpd\",\"bkn\",\"utk\",\"skg\",\"deh\",\"eh\",\"sih\",\"org\",\"mak\",\"aeh\",\"neh\",\"sm\",\n",
    "                      \"doi\",\"dgan\",\"smua\",\"dng\",\"hp\",\"so\",\"skrg\",\"lo\",\"bln\",\"wow\",\"lbh\",\"gpp\",\"jlsnya\",\"pd\",\"in\",\"orang\",\"baru\",\n",
    "                      \"berbeza\",\"sukatan\",\"ter\",\"di\",\"meng\",\"nya\",\"se\",\"an\",\"dos\",\"kesihatan\",\"waduh\",\"udah\",\"gak\",\"bahawa\",\n",
    "                      \"plih\",\"gimana\",\"nunggu\",\"pahang\",\"bawak\",\"nak\",\"korang\",\"mana\",\"sahaja\",\"kemana\",\"senarai\",\"makin\",\"lepas\",\n",
    "                      \"mengawan\",\"je\",\"jepun\",\"tak\",\"dibazirkan\",\"piye\", \"toh\",\"gue\",\"bikin\",\"semaleman\",\"typo\",\"malah\",\"aku\",\"keren\",\n",
    "                      \"agak\",\"teteh\",\"aa\",\"silakan\",\"daptar\",\"aja\",\"jaksel\",\"harusss\",\"sesapa\",\"komuniti\",\"nyesel\",\"kagak\",\n",
    "                      \"kemarenan\",\"dah\",\"megap-megap\",\"sesek\",\"monggo\",\"sang\",\"kipi\",\"gue\",\"anjmmm\",\"nak\",\"syedeeppp\",\n",
    "                      \"syekali\",\"jgn\",\"vial\",\"sih\",\"mmg\",\"lgsg\",\"aja\",\"tdk\",\"az\",\"org\",\"yg\",\"karna\",\"jg\",\"uda\",\"gausa\",\"wkwk\",\n",
    "                      \"blm\",\"dlm\",\"tak\",\"bce\",\"hbis\",\"mjlis\",\"indon\",\"diaorang\",\"distop\",\"thu\",\"tpi\",\"mngatakan\",\"kerana\",\"dn\",\n",
    "                      \"fc\",\"patennta\",\"byk\",\"dapet\",\"gini\",\"amat\",\"başqanı\",\"sırada\",\"önə \",\"keçməmək\",\"üçün\", \"vurdurmayıb\",\"sən\",\n",
    "                      \"yalanı\", \"at\", \"inanacaq\",\"və\", \"hətta\", \"düşünməyəcək\",\"sorğulamayacaq\", \"çox\", \"insan\", \"var\",\"euy\",\"ni\",\n",
    "                      \"nih\",\"lah\",\"lo\",\"kaga\",\"kemaren-kemarenan\",\"megapmegap\",\"sesek\",\"napas\",\"dapetin\",\"sih\",\"dos\",\"nyesel\",\n",
    "                      \"skrg\",\"kagak\",\"dah\",\"sesetengah\",\"mentaliti\",\"kaya\",\"bahawa\",\"guys\",\"la\",\"dose\",\"ore\", \"kb\",\"ko\",\"pks\",\n",
    "                      \"dtg\",\"ampang\",\"org\",\"but\",\"je\",\"lg\",\"sinopharm\",\"utk\",\"ngga\",\"cepet\",\"diteken\",\"abis\",\"pake\",\"kalo\",\n",
    "                      \"kerasa\",\"klo\",\"malem2\",\"ngadep\",\"bkn\", \"ni\",\"si\",\"pastu\",\"dok\",\"bgtaw\",\"nk\",\"annoying\",\"mcm\",\"dpt\",\"xde\",\n",
    "                      \"sapa\",\"pn\",\"pentaksuk\"<\"tuh\",\"nehh\",\"doi\",\"ga\",\"mikirin\",\"cuan\",\"sm\",\"kena\",\"sdh\",\"manakala\",\"sihat\",\"perbezaan\",\n",
    "                      \"az\",\"dlm\",\"sbb\", \"n\",\"eh\",\"berasa\",\"je\",\"lol\",\"so\",\"geng\",\"mana\",\"ambik\",\"bgtau\",\"kaya\",\"len\",\"resipi\",\"mrna\",\n",
    "                      \"sila\",\"va\",\"yaaa\",\"temen\",\"makasi\",\"yuk\", \"ngasi\",\"dtg\",\"puskes\",\"buldep\",\"bansos\",\"pkh\",\"nunjukin\",\"sertif\", \n",
    "                      \"belingsatan\",\"digebukin\",\"akn\",\"ia\",\"slps\",\"tulah\",\"tu\",\"jugak\",\"gituhh\",\"perli\",\"ckp\",\"amik\",\"lg\",\"pekak\",\n",
    "                      \"je\",\"masup\",\"emoll\",\"gpp\",\"a\",\"b\",\"c\",\"d\",\"e\",\"f\",\"g\",\"h\",\"i\",\"j\",\"k\",\"l\",\"m\",\"n\",\"o\",\"p\",\"q\",\"r\",\"s\",\"t\",\"u\",\"v\",\"w\",\"x\",\"y\",\"z\",\"oiii\",\"dh\",\"geng\",\"megelitat\",\"kome\",\"sikit\",\"korang\",\"kecoh\",\"faham\",\"nyari\",\"sbg\",\"faskes\",\"by\",\"kpd\"])\n",
    "    x = []\n",
    "    data = []\n",
    "    def myFunc(x):\n",
    "        if x in filtering:\n",
    "            return False\n",
    "        else:\n",
    "            return True\n",
    "    fit = filter(myFunc, text)\n",
    "    for x in fit:\n",
    "        data.append(x)\n",
    "    return data"
   ]
  },
  {
   "cell_type": "code",
   "execution_count": 17,
   "metadata": {},
   "outputs": [
    {
     "data": {
      "text/html": [
       "<div>\n",
       "<style scoped>\n",
       "    .dataframe tbody tr th:only-of-type {\n",
       "        vertical-align: middle;\n",
       "    }\n",
       "\n",
       "    .dataframe tbody tr th {\n",
       "        vertical-align: top;\n",
       "    }\n",
       "\n",
       "    .dataframe thead th {\n",
       "        text-align: right;\n",
       "    }\n",
       "</style>\n",
       "<table border=\"1\" class=\"dataframe\">\n",
       "  <thead>\n",
       "    <tr style=\"text-align: right;\">\n",
       "      <th></th>\n",
       "      <th>review</th>\n",
       "      <th>years</th>\n",
       "      <th>month</th>\n",
       "    </tr>\n",
       "  </thead>\n",
       "  <tbody>\n",
       "    <tr>\n",
       "      <th>0</th>\n",
       "      <td>[kemasan, bedanya, salah, dalamnya, beda, pengiriman, cepat, pakai, sicepat, terimakasih, msglow]</td>\n",
       "      <td>2021</td>\n",
       "      <td>11</td>\n",
       "    </tr>\n",
       "    <tr>\n",
       "      <th>1</th>\n",
       "      <td>[alhamdulillah, banget, barang, dalem, aman, cacat, sesuai, alhamdulillah, packing, oke, pengiriman, oke, semoga, cocok]</td>\n",
       "      <td>2022</td>\n",
       "      <td>5</td>\n",
       "    </tr>\n",
       "    <tr>\n",
       "      <th>2</th>\n",
       "      <td>[kualitas, produk, harga, produk, kecepatan, pengiriman, kecepatan, pengiriman, respon, penjual, jahatpun, aslinya, lingkungan, kondisilah, merubah]</td>\n",
       "      <td>2023</td>\n",
       "      <td>7</td>\n",
       "    </tr>\n",
       "    <tr>\n",
       "      <th>3</th>\n",
       "      <td>[produk, packing, rapih, pengiriman, cepat, pengemasan, cepat, terimakasih, msglow]</td>\n",
       "      <td>2021</td>\n",
       "      <td>10</td>\n",
       "    </tr>\n",
       "    <tr>\n",
       "      <th>4</th>\n",
       "      <td>[pengemasan, cepat, packing, aman, produk, expired, tekstur, kental, aplikasikan, wajah, cepat, meresap, coba, semoga, cocok, pakai]</td>\n",
       "      <td>2021</td>\n",
       "      <td>4</td>\n",
       "    </tr>\n",
       "  </tbody>\n",
       "</table>\n",
       "</div>"
      ],
      "text/plain": [
       "                                                                                                                                                 review  \\\n",
       "0  [kemasan, bedanya, salah, dalamnya, beda, pengiriman, cepat, pakai, sicepat, terimakasih, msglow]                                                      \n",
       "1  [alhamdulillah, banget, barang, dalem, aman, cacat, sesuai, alhamdulillah, packing, oke, pengiriman, oke, semoga, cocok]                               \n",
       "2  [kualitas, produk, harga, produk, kecepatan, pengiriman, kecepatan, pengiriman, respon, penjual, jahatpun, aslinya, lingkungan, kondisilah, merubah]   \n",
       "3  [produk, packing, rapih, pengiriman, cepat, pengemasan, cepat, terimakasih, msglow]                                                                    \n",
       "4  [pengemasan, cepat, packing, aman, produk, expired, tekstur, kental, aplikasikan, wajah, cepat, meresap, coba, semoga, cocok, pakai]                   \n",
       "\n",
       "   years  month  \n",
       "0  2021   11     \n",
       "1  2022   5      \n",
       "2  2023   7      \n",
       "3  2021   10     \n",
       "4  2021   4      "
      ]
     },
     "execution_count": 17,
     "metadata": {},
     "output_type": "execute_result"
    }
   ],
   "source": [
    "# menerapkan fungsi\n",
    "data['review'] = data['review'].apply(stopword_removal)\n",
    "data.head()"
   ]
  },
  {
   "cell_type": "markdown",
   "metadata": {},
   "source": [
    "### Stemming"
   ]
  },
  {
   "cell_type": "code",
   "execution_count": 18,
   "metadata": {},
   "outputs": [],
   "source": [
    "# Inisialisasi stemmer dari Sastrawi\n",
    "def stemming(texts):\n",
    "    factory = StemmerFactory()\n",
    "    stemmer = factory.create_stemmer()\n",
    "    do = []\n",
    "    for text in texts:\n",
    "        dt = stemmer.stem(text)\n",
    "        do.append(dt)\n",
    "    d_clean=[]\n",
    "    d_clean= \" \".join(do)\n",
    "    return d_clean"
   ]
  },
  {
   "cell_type": "code",
   "execution_count": 19,
   "metadata": {},
   "outputs": [
    {
     "data": {
      "text/html": [
       "<div>\n",
       "<style scoped>\n",
       "    .dataframe tbody tr th:only-of-type {\n",
       "        vertical-align: middle;\n",
       "    }\n",
       "\n",
       "    .dataframe tbody tr th {\n",
       "        vertical-align: top;\n",
       "    }\n",
       "\n",
       "    .dataframe thead th {\n",
       "        text-align: right;\n",
       "    }\n",
       "</style>\n",
       "<table border=\"1\" class=\"dataframe\">\n",
       "  <thead>\n",
       "    <tr style=\"text-align: right;\">\n",
       "      <th></th>\n",
       "      <th>review</th>\n",
       "      <th>years</th>\n",
       "      <th>month</th>\n",
       "    </tr>\n",
       "  </thead>\n",
       "  <tbody>\n",
       "    <tr>\n",
       "      <th>0</th>\n",
       "      <td>kemas beda salah dalam beda kirim cepat pakai sicepat terimakasih msglow</td>\n",
       "      <td>2021</td>\n",
       "      <td>11</td>\n",
       "    </tr>\n",
       "    <tr>\n",
       "      <th>1</th>\n",
       "      <td>alhamdulillah banget barang dalem aman cacat sesuai alhamdulillah packing oke kirim oke moga cocok</td>\n",
       "      <td>2022</td>\n",
       "      <td>5</td>\n",
       "    </tr>\n",
       "    <tr>\n",
       "      <th>2</th>\n",
       "      <td>kualitas produk harga produk cepat kirim cepat kirim respon jual jahat asli lingkung kondisi rubah</td>\n",
       "      <td>2023</td>\n",
       "      <td>7</td>\n",
       "    </tr>\n",
       "    <tr>\n",
       "      <th>3</th>\n",
       "      <td>produk packing rapih kirim cepat emas cepat terimakasih msglow</td>\n",
       "      <td>2021</td>\n",
       "      <td>10</td>\n",
       "    </tr>\n",
       "    <tr>\n",
       "      <th>4</th>\n",
       "      <td>emas cepat packing aman produk expired tekstur kental aplikasi wajah cepat resap coba moga cocok pakai</td>\n",
       "      <td>2021</td>\n",
       "      <td>4</td>\n",
       "    </tr>\n",
       "  </tbody>\n",
       "</table>\n",
       "</div>"
      ],
      "text/plain": [
       "                                                                                                   review  \\\n",
       "0  kemas beda salah dalam beda kirim cepat pakai sicepat terimakasih msglow                                 \n",
       "1  alhamdulillah banget barang dalem aman cacat sesuai alhamdulillah packing oke kirim oke moga cocok       \n",
       "2  kualitas produk harga produk cepat kirim cepat kirim respon jual jahat asli lingkung kondisi rubah       \n",
       "3  produk packing rapih kirim cepat emas cepat terimakasih msglow                                           \n",
       "4  emas cepat packing aman produk expired tekstur kental aplikasi wajah cepat resap coba moga cocok pakai   \n",
       "\n",
       "   years  month  \n",
       "0  2021   11     \n",
       "1  2022   5      \n",
       "2  2023   7      \n",
       "3  2021   10     \n",
       "4  2021   4      "
      ]
     },
     "execution_count": 19,
     "metadata": {},
     "output_type": "execute_result"
    }
   ],
   "source": [
    "data.review = data['review'].apply(stemming)\n",
    "data.head()"
   ]
  },
  {
   "cell_type": "code",
   "execution_count": 20,
   "metadata": {},
   "outputs": [],
   "source": [
    "# menyimpan hasil data yang sudah bersih\n",
    "data.to_csv('dataset/cleaned_data.csv', index=False)"
   ]
  },
  {
   "cell_type": "code",
   "execution_count": null,
   "metadata": {},
   "outputs": [],
   "source": []
  }
 ],
 "metadata": {
  "kernelspec": {
   "display_name": "Python 3",
   "language": "python",
   "name": "python3"
  },
  "language_info": {
   "codemirror_mode": {
    "name": "ipython",
    "version": 3
   },
   "file_extension": ".py",
   "mimetype": "text/x-python",
   "name": "python",
   "nbconvert_exporter": "python",
   "pygments_lexer": "ipython3",
   "version": "3.10.12"
  }
 },
 "nbformat": 4,
 "nbformat_minor": 2
}
